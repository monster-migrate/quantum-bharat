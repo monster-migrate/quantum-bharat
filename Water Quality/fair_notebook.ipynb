{
 "cells": [
  {
   "cell_type": "markdown",
   "metadata": {},
   "source": [
    "![infographic](./assets/infographic.png)"
   ]
  },
  {
   "cell_type": "markdown",
   "metadata": {},
   "source": [
    "### Import Libraries"
   ]
  },
  {
   "cell_type": "code",
   "execution_count": 2,
   "metadata": {},
   "outputs": [],
   "source": [
    "import pandas as pd\n",
    "import numpy as np\n",
    "import geopandas as gpd\n",
    "from fiona.drvsupport import supported_drivers\n",
    "supported_drivers['LIBKML'] = 'rw'\n",
    "import folium\n",
    "import matplotlib.pyplot as plt\n",
    "import matplotlib.colors as mcolors\n",
    "import seaborn as sns\n",
    "import tabula\n",
    "import re\n",
    "import math\n",
    "from sklearn.preprocessing import LabelEncoder"
   ]
  },
  {
   "cell_type": "markdown",
   "metadata": {},
   "source": [
    "### load Datasets\n",
    " - Delhi Shape File:\n",
    "    - source: https://data.opencity.in/dataset/delhi-wards-information"
   ]
  },
  {
   "cell_type": "code",
   "execution_count": 3,
   "metadata": {},
   "outputs": [],
   "source": [
    "gdf = gpd.read_file(\"./datasets/delhi_wards.kml\", driver='KML')\n",
    "\n",
    "# CLEAN THIS BEFORE COMMIT \n",
    "# gdf = gdf[['Ward_No','geometry']]\n",
    "# gdf.columns = [\"wardno\",\"geometry\"]\n",
    "# gdf = gdf.sort_values(by='wardno')"
   ]
  },
  {
   "cell_type": "markdown",
   "metadata": {},
   "source": [
    " - Let's separate out the ward numbers and their geometries into a separate table. This will make it easier to work with the data and perform spatial operations."
   ]
  },
  {
   "cell_type": "code",
   "execution_count": 17,
   "metadata": {},
   "outputs": [],
   "source": [
    "wards_geometry_gdf = gdf[['Ward_No','geometry']].copy()\n",
    "wards_geometry_gdf.columns = [\"wardno\",\"geometry\"]\n",
    "wards_geometry_gdf['wardno'].astype('int32')\n",
    "wards_geometry_gdf = wards_geometry_gdf.sort_values(by='wardno', ignore_index=True)"
   ]
  },
  {
   "cell_type": "code",
   "execution_count": 18,
   "metadata": {},
   "outputs": [
    {
     "data": {
      "text/html": [
       "<div>\n",
       "<style scoped>\n",
       "    .dataframe tbody tr th:only-of-type {\n",
       "        vertical-align: middle;\n",
       "    }\n",
       "\n",
       "    .dataframe tbody tr th {\n",
       "        vertical-align: top;\n",
       "    }\n",
       "\n",
       "    .dataframe thead th {\n",
       "        text-align: right;\n",
       "    }\n",
       "</style>\n",
       "<table border=\"1\" class=\"dataframe\">\n",
       "  <thead>\n",
       "    <tr style=\"text-align: right;\">\n",
       "      <th></th>\n",
       "      <th>wardno</th>\n",
       "      <th>geometry</th>\n",
       "    </tr>\n",
       "  </thead>\n",
       "  <tbody>\n",
       "    <tr>\n",
       "      <th>0</th>\n",
       "      <td>0</td>\n",
       "      <td>POLYGON ((77.1677 28.59198, 77.16631 28.59192,...</td>\n",
       "    </tr>\n",
       "    <tr>\n",
       "      <th>1</th>\n",
       "      <td>1</td>\n",
       "      <td>POLYGON ((77.08542 28.88213, 77.08545 28.88213...</td>\n",
       "    </tr>\n",
       "    <tr>\n",
       "      <th>2</th>\n",
       "      <td>2</td>\n",
       "      <td>POLYGON ((77.06256 28.87002, 77.06295 28.86979...</td>\n",
       "    </tr>\n",
       "    <tr>\n",
       "      <th>3</th>\n",
       "      <td>3</td>\n",
       "      <td>POLYGON ((77.12671 28.84566, 77.12441 28.84558...</td>\n",
       "    </tr>\n",
       "    <tr>\n",
       "      <th>4</th>\n",
       "      <td>4</td>\n",
       "      <td>POLYGON ((77.12603 28.76161, 77.12603 28.76161...</td>\n",
       "    </tr>\n",
       "    <tr>\n",
       "      <th>...</th>\n",
       "      <td>...</td>\n",
       "      <td>...</td>\n",
       "    </tr>\n",
       "    <tr>\n",
       "      <th>246</th>\n",
       "      <td>246</td>\n",
       "      <td>POLYGON ((77.25377 28.71249, 77.25391 28.71246...</td>\n",
       "    </tr>\n",
       "    <tr>\n",
       "      <th>247</th>\n",
       "      <td>247</td>\n",
       "      <td>POLYGON ((77.26761 28.72272, 77.26744 28.72232...</td>\n",
       "    </tr>\n",
       "    <tr>\n",
       "      <th>248</th>\n",
       "      <td>248</td>\n",
       "      <td>POLYGON ((77.2762 28.73578, 77.27644 28.73563,...</td>\n",
       "    </tr>\n",
       "    <tr>\n",
       "      <th>249</th>\n",
       "      <td>249</td>\n",
       "      <td>POLYGON ((77.2604 28.73427, 77.26031 28.73361,...</td>\n",
       "    </tr>\n",
       "    <tr>\n",
       "      <th>250</th>\n",
       "      <td>250</td>\n",
       "      <td>MULTIPOLYGON (((77.23416 28.76239, 77.23524 28...</td>\n",
       "    </tr>\n",
       "  </tbody>\n",
       "</table>\n",
       "<p>251 rows × 2 columns</p>\n",
       "</div>"
      ],
      "text/plain": [
       "     wardno                                           geometry\n",
       "0         0  POLYGON ((77.1677 28.59198, 77.16631 28.59192,...\n",
       "1         1  POLYGON ((77.08542 28.88213, 77.08545 28.88213...\n",
       "2         2  POLYGON ((77.06256 28.87002, 77.06295 28.86979...\n",
       "3         3  POLYGON ((77.12671 28.84566, 77.12441 28.84558...\n",
       "4         4  POLYGON ((77.12603 28.76161, 77.12603 28.76161...\n",
       "..      ...                                                ...\n",
       "246     246  POLYGON ((77.25377 28.71249, 77.25391 28.71246...\n",
       "247     247  POLYGON ((77.26761 28.72272, 77.26744 28.72232...\n",
       "248     248  POLYGON ((77.2762 28.73578, 77.27644 28.73563,...\n",
       "249     249  POLYGON ((77.2604 28.73427, 77.26031 28.73361,...\n",
       "250     250  MULTIPOLYGON (((77.23416 28.76239, 77.23524 28...\n",
       "\n",
       "[251 rows x 2 columns]"
      ]
     },
     "execution_count": 18,
     "metadata": {},
     "output_type": "execute_result"
    }
   ],
   "source": [
    "wards_geometry_gdf"
   ]
  }
 ],
 "metadata": {
  "kernelspec": {
   "display_name": "gen",
   "language": "python",
   "name": "python3"
  },
  "language_info": {
   "codemirror_mode": {
    "name": "ipython",
    "version": 3
   },
   "file_extension": ".py",
   "mimetype": "text/x-python",
   "name": "python",
   "nbconvert_exporter": "python",
   "pygments_lexer": "ipython3",
   "version": "3.13.2"
  }
 },
 "nbformat": 4,
 "nbformat_minor": 2
}
